{
  "nbformat": 4,
  "nbformat_minor": 0,
  "metadata": {
    "colab": {
      "name": "SQL_Assignment_4.ipynb",
      "provenance": []
    },
    "kernelspec": {
      "name": "python3",
      "display_name": "Python 3"
    },
    "language_info": {
      "name": "python"
    }
  },
  "cells": [
    {
      "cell_type": "markdown",
      "source": [
        "Q1) Write an SQL query to print the FIRST_NAME from Worker table after replacing ‘a’ with ‘A’.\n",
        "\n",
        "Ans) \n",
        "\n",
        "SELECT REPLACE(FIRST_NAME,'a','A') AS \"REPLACE NAME\" FROM EMPLOYEES;"
      ],
      "metadata": {
        "id": "txgcxV3zZnRc"
      }
    },
    {
      "cell_type": "markdown",
      "source": [
        "Q2). Write an SQL query to print all Worker details from the Worker table order by FIRST_NAME Ascending and DEPARTMENT Descending.\n",
        "\n",
        "Ans) \n",
        "SELECT * FROM employees e ORDER BY e.job_name ASC, e.emp_id DESC ;"
      ],
      "metadata": {
        "id": "5ijy-vfYZnHv"
      }
    },
    {
      "cell_type": "markdown",
      "source": [
        "Q3). Write an SQL query to fetch the names of workers who earn the highest salary.\n",
        "\n",
        "Ans)  SELECT * FROM employees WHERE department_id=30 AND salary = (SELECT MAX(salary) FROM employees WHERE department_id=30);"
      ],
      "metadata": {
        "id": "QOtaBp_iZnET"
      }
    },
    {
      "cell_type": "markdown",
      "source": [
        ""
      ],
      "metadata": {
        "id": "7UGEO12YZnB-"
      }
    }
  ]
}